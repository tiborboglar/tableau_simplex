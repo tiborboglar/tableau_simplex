{
 "cells": [
  {
   "cell_type": "markdown",
   "metadata": {},
   "source": [
    "### Implementação do Simplex Tableau"
   ]
  },
  {
   "cell_type": "code",
   "execution_count": 1,
   "metadata": {},
   "outputs": [],
   "source": [
    "from Simplex import simplex\n",
    "import numpy as np"
   ]
  },
  {
   "cell_type": "code",
   "execution_count": 2,
   "metadata": {},
   "outputs": [
    {
     "name": "stdout",
     "output_type": "stream",
     "text": [
      "Iteração 1:\n",
      "[[ 0 -1 -3 -5  0  0]\n",
      " [ 3  2 -5  1  1  0]\n",
      " [ 5  1  4  0  0  1]]\n",
      "O pivô está na linha 1 e coluna 1 \n",
      "\n",
      "Iteração 2:\n",
      "[[ 1.5  0.  -5.5 -4.5  0.5  0. ]\n",
      " [ 1.5  1.  -2.5  0.5  0.5  0. ]\n",
      " [ 3.5  0.   6.5 -0.5 -0.5  1. ]]\n",
      "O pivô está na linha 2 e coluna 2 \n",
      "\n",
      "Iteração 3:\n",
      "[[ 4.46153846  0.          0.         -4.92307692  0.07692308  0.84615385]\n",
      " [ 2.84615385  1.          0.          0.30769231  0.30769231  0.38461538]\n",
      " [ 0.53846154  0.          1.         -0.07692308 -0.07692308  0.15384615]]\n",
      "O pivô está na linha 1 e coluna 3 \n",
      "\n"
     ]
    },
    {
     "data": {
      "text/plain": [
       "([[49.99999999999999, 16.0, 0.0, 0.0, 5.0, 7.0],\n",
       "  [9.249999999999998, 3.25, 0.0, 1.0, 1.0, 1.25],\n",
       "  [1.25, 0.25, 1.0, 0.0, 0.0, 0.25]],\n",
       " {'x2': 1.25, 'x3': 9.2499999999999982},\n",
       " -49.99999999999999)"
      ]
     },
     "execution_count": 2,
     "metadata": {},
     "output_type": "execute_result"
    }
   ],
   "source": [
    "c = [-1, -3, -5, 0, 0]\n",
    "A = [[2, -5, 1,1,0],[1,4,0,0,1]]\n",
    "b = [3,5]\n",
    "\n",
    "simplex(c, A, b, verbose=True)"
   ]
  },
  {
   "cell_type": "code",
   "execution_count": 3,
   "metadata": {},
   "outputs": [
    {
     "name": "stdout",
     "output_type": "stream",
     "text": [
      "Iteração 1:\n",
      "[[0, -4, -2, 5, 0, 0, 0] [3, -2, 5, 1, 1, 0, 0, 0]\n",
      " [-5, 1, 4, -2, 0, 1, 0, 0] [9, 3, -2, 7, 0, 0, 1, 0]]\n",
      "O pivô está na linha 2 e coluna 1 \n",
      "\n",
      "Iteração 2:\n",
      "[[-20.0, 0.0, 14.0, -3.0, 0.0, 4.0, 0.0]\n",
      " [-7.0, 0.0, 13.0, -3.0, 1.0, 2.0, 0.0, 0.0]\n",
      " [-5.0, 1.0, 4.0, -2.0, 0.0, 1.0, 0.0, 0.0]\n",
      " [24.0, 0.0, -14.0, 13.0, 0.0, -3.0, 1.0, 0.0]]\n",
      "O pivô está na linha 3 e coluna 3 \n",
      "\n"
     ]
    },
    {
     "data": {
      "text/plain": [
       "'Problema sem solução.'"
      ]
     },
     "execution_count": 3,
     "metadata": {},
     "output_type": "execute_result"
    }
   ],
   "source": [
    "c = [-4, -2, 5, 0, 0, 0]\n",
    "A = [[-2,5,1,1,0,0,0],[1,4,-2,0,1,0,0],[3,-2,7,0,0,1,0]]\n",
    "b = [3,-5,9]\n",
    "\n",
    "simplex(c, A, b, verbose=True)[1:]"
   ]
  },
  {
   "cell_type": "code",
   "execution_count": 9,
   "metadata": {},
   "outputs": [
    {
     "name": "stdout",
     "output_type": "stream",
     "text": [
      "Iteração 1:\n",
      "[[ 0 -4 -3  0  0]\n",
      " [ 2  3  0  1  0]\n",
      " [ 3  1  2  0  1]]\n",
      "O pivô está na linha 1 e coluna 1 \n",
      "\n",
      "Iteração 2:\n",
      "[[ 2.66666667  0.         -3.          1.33333333  0.        ]\n",
      " [ 0.66666667  1.          0.          0.33333333  0.        ]\n",
      " [ 2.33333333  0.          2.         -0.33333333  1.        ]]\n",
      "O pivô está na linha 2 e coluna 2 \n",
      "\n"
     ]
    },
    {
     "data": {
      "text/plain": [
       "({'x1': 0.66666666666666663, 'x2': 1.1666666666666667}, -6.166666666666666)"
      ]
     },
     "execution_count": 9,
     "metadata": {},
     "output_type": "execute_result"
    }
   ],
   "source": [
    "c = [-4,-3, 0,0]\n",
    "A = [[3,0,1,0], [1,2,0,1]]\n",
    "b = [2,3]\n",
    "\n",
    "simplex(c,A,b, verbose=True)[1:]"
   ]
  }
 ],
 "metadata": {
  "kernelspec": {
   "display_name": "Python [default]",
   "language": "python",
   "name": "python3"
  },
  "language_info": {
   "codemirror_mode": {
    "name": "ipython",
    "version": 3
   },
   "file_extension": ".py",
   "mimetype": "text/x-python",
   "name": "python",
   "nbconvert_exporter": "python",
   "pygments_lexer": "ipython3",
   "version": "3.5.2"
  }
 },
 "nbformat": 4,
 "nbformat_minor": 2
}
