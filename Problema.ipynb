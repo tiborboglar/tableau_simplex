{
 "cells": [
  {
   "cell_type": "code",
   "execution_count": 12,
   "metadata": {},
   "outputs": [],
   "source": [
    "import numpy as np \n",
    "import pandas as pd\n",
    "import warnings\n",
    "warnings.filterwarnings(\"ignore\")"
   ]
  },
  {
   "cell_type": "markdown",
   "metadata": {},
   "source": [
    "## Implementar uma versão do algoritmo Simplex"
   ]
  },
  {
   "cell_type": "markdown",
   "metadata": {},
   "source": [
    "### Problema de Otimização:\n",
    "$$ \\text{Minimizar} \\qquad \\int_{0}^{10} |a(s)|ds \\qquad \\text{s.a.}$$\n",
    "\n",
    "$$ \\qquad v(t) = v(0) + \\int_{0}^{t} a(s)ds \\qquad \\forall t \\in [0,10]$$\n",
    "\n",
    "$$\\qquad x(t) = x(0) + \\int_{0}^{t}v(s)ds \\qquad \\forall t \\in [0,10]$$\n",
    "\n",
    "$$\\qquad x(0) = 0, x(10)=1, v(0)=0, v(10)=0$$\n",
    "\n",
    "Verifica-se que a função custo é não-linear devido a presença de um módulo, além disso, o problema necessita ser discretizado.\n"
   ]
  },
  {
   "cell_type": "markdown",
   "metadata": {},
   "source": [
    "***\n",
    "\n",
    "Tomando um passo de discretização $\\Delta t$, temos que $T=N\\Delta t$, onde $T=10$ e $N$ é um número inteiro que irá particionar o intervalo de tempo dado por $[0,T]=[0,10]$.\n",
    "\n",
    "Ou seja, se nosso passo de discretização é dado por $\\Delta t =1$, então temos que $N=\\frac{T}{\\Delta t}=\\frac{10}{1}=10$, e teremos nosso intervalo discretizado em 10 partições. "
   ]
  },
  {
   "cell_type": "markdown",
   "metadata": {},
   "source": [
    "Podemos reescrever $x(t)$, $v(t)$ e a(t) como:\n",
    "\n",
    "$$x = [x_0=x(0), x_1=x(1 \\cdot 1), ..., x_{10} = x(10 \\cdot 1)]$$\n",
    "\n",
    "$$v = [v_0=v(0), v_1 = v(1 \\cdot 1), ... , v_{10} = v(10 \\cdot 1)] $$\n",
    "\n",
    "Tomando valores genéricos de $N$ e $\\Delta t$, temos:\n",
    "\n",
    "$$x = [x_0=x(0), x_1=x(1 \\cdot \\Delta t), ..., x_{N} = x(N \\cdot \\Delta t)]$$\n",
    "\n",
    "$$v = [v_0=v(0), v_1 = v(1 \\cdot \\Delta t), ... , v_{N} = v(N \\cdot \\Delta t)] $$"
   ]
  },
  {
   "cell_type": "markdown",
   "metadata": {},
   "source": [
    "Contudo, também podemos escrever as atualizações como,\n",
    "\n",
    "$$x_{k+1} = x_{k} + v_k\\Delta t, \\qquad {k \\in \\{0,..., N-1\\}}$$\n",
    "\n",
    "$$v_{k+1} = v_{k} + a_k\\Delta t, \\qquad {k \\in \\{0,..., N-1\\}}$$"
   ]
  },
  {
   "cell_type": "markdown",
   "metadata": {},
   "source": [
    "Portanto, o problema de minimização teria se tornado:\n",
    "\n",
    "$$ \\text{Minimizar} \\qquad \\int_{0}^{10} |a(s)|ds \\qquad \\text{s.a.}$$\n",
    "\n",
    "$$ \\qquad v_{k+1} = v_k + a_k \\Delta t \\qquad k \\in \\{0,..., N-1\\}$$\n",
    "\n",
    "$$ \\qquad x_{k+1} = x_k + v_k \\Delta t \\qquad k \\in \\{0,..., N-1\\}$$\n",
    "\n",
    "$$\\qquad x(0) = 0, x(10)=1, v(0)=0, v(10)=0$$"
   ]
  },
  {
   "cell_type": "markdown",
   "metadata": {},
   "source": [
    "Mas ainda assim temos uma função custo não linear devido a presença da função $f(\\cdot)= |\\cdot|$ e que ainda não está discretizada.\n",
    "\n",
    "Podemos, no entanto, discretizar a integral tal que, $$z = \\int_0 ^{T} |a(s)|ds \\longrightarrow z = \\sum_{k=0}^{N-1} |a_k| \\Delta t = \\Delta t \\sum_{k=0}^{N-1} |a_k| $$"
   ]
  },
  {
   "cell_type": "markdown",
   "metadata": {},
   "source": [
    "E nosso problema de minimização se torna,\n",
    "\n",
    "Portanto, o problema de minimização teria se tornado:\n",
    "\n",
    "$$ \\text{Minimizar} \\qquad  z = \\Delta t \\sum_{k=0}^{N-1} |a_k|  \\qquad \\text{s.a.}$$\n",
    "\n",
    "$$ \\qquad v_{k+1} = v_k + a_k \\Delta t \\qquad k \\in \\{0,..., N-1\\}$$\n",
    "\n",
    "$$ \\qquad x_{k+1} = x_k + v_k \\Delta t \\qquad k \\in \\{0,..., N-1\\}$$\n",
    "\n",
    "$$\\qquad x(0) = 0, x(10)=1, v(0)=0, v(10)=0$$"
   ]
  },
  {
   "cell_type": "markdown",
   "metadata": {},
   "source": [
    "Para linearizar o problema, inserimos novas variáveis $\\theta_k, k \\in \\{0,...,N-1 \\}$ e o problema de programação linear se torna,\n",
    "\n",
    "\n",
    "$$ \\text{Minimizar} \\qquad  z = \\Delta t \\sum_{k=0}^{N-1} \\theta_k  \\qquad \\text{s.a.}$$\n",
    "\n",
    "$$ \\qquad v_{k+1} = v_k + a_k \\Delta t \\qquad k \\in \\{0,..., N-1\\}$$\n",
    "\n",
    "$$ \\qquad x_{k+1} = x_k + v_k \\Delta t \\qquad k \\in \\{0,..., N-1\\}$$\n",
    "\n",
    "$$ \\qquad a_k - \\theta_k \\leq 0 \\qquad k \\in \\{0,..., N-1\\}$$\n",
    "\n",
    "$$ \\qquad -a_k - \\theta_k \\leq 0 \\qquad k \\in \\{0,..., N-1\\}$$\n",
    "\n",
    "$$ \\qquad x(0) = 0 \\qquad v(0)=0$$\n",
    "$$ \\qquad x(N-1)=1 \\qquad v(N-1)=0$$"
   ]
  },
  {
   "cell_type": "markdown",
   "metadata": {},
   "source": [
    "___"
   ]
  },
  {
   "cell_type": "markdown",
   "metadata": {},
   "source": [
    "Para transformamos o problema em uma forma \"resolvível\", basta escrevermos cada iteração k, tal que,"
   ]
  },
  {
   "cell_type": "markdown",
   "metadata": {},
   "source": [
    "<b>k = 0</b>\n",
    "\n",
    "$$\n",
    "x_0 = 0 \\qquad v_0 = 0 \\qquad a_0 - \\theta_0 \\leq 0 \\qquad -a_0 - \\theta_0 \\leq 0\n",
    "$$"
   ]
  },
  {
   "cell_type": "markdown",
   "metadata": {},
   "source": [
    "<b>k = 1:</b>\n",
    "\n",
    "$$\n",
    "x_1 = 0 \\qquad\n",
    "v_1 = a_0 \\cdot \\Delta t \\qquad\n",
    "a_1 - \\theta_1 \\leq 0\n",
    "-a_1 - \\theta_1 \\leq 0\n",
    "$$"
   ]
  },
  {
   "cell_type": "markdown",
   "metadata": {},
   "source": [
    "<b>k=2:</b>\n",
    "\n",
    "$$\n",
    "x_2 = a_0 \\cdot \\Delta t ^2 \\qquad\n",
    "v_2 = (a_0 + a_1) \\cdot \\Delta t \\qquad\n",
    "a_2 - \\theta_2 \\leq = 0 \\qquad\n",
    "-a_2 - \\theta_2 \\leq = 0 \n",
    "$$"
   ]
  },
  {
   "cell_type": "markdown",
   "metadata": {},
   "source": [
    "<b>k=3:</b>\n",
    "\n",
    "$$\n",
    "x_3 = (2a_0 + a_1) \\cdot \\Delta t ^2 \\qquad\n",
    "v_3 = (a_0 + a_1 + a_2) \\cdot \\Delta t \\qquad\n",
    "a_3 - \\theta_3 \\leq = 0 \\qquad\n",
    "-a_3 - \\theta_3 \\leq = 0 \n",
    "$$"
   ]
  },
  {
   "cell_type": "markdown",
   "metadata": {},
   "source": [
    "Contudo, tomando a nossa última iteração, nós conseguimos generalizar o problema, sendo assim, temos:\n",
    "\n",
    "<b>k = N - 1:</b>\n",
    "\n",
    "$$\n",
    "x_{N-1} = 1 \\implies\n",
    "1 = \\Delta t ^2 \\cdot \\sum_{i=0}^{N-2}(N-1-i)\\cdot a_{i} \n",
    "\\\\\n",
    "v_{N-1} = 0 \\implies\n",
    "0 = \\Delta t \\cdot \\sum_{i=0}^{N-1}a_i\n",
    "\\\\\n",
    "a_2 - \\theta_2 \\leq = 0 \\\\\n",
    "-a_2 - \\theta_2 \\leq = 0 \n",
    "$$"
   ]
  },
  {
   "cell_type": "markdown",
   "metadata": {},
   "source": [
    "E o problema completo de programação linear se torna o seguinte, "
   ]
  },
  {
   "cell_type": "markdown",
   "metadata": {},
   "source": [
    "$$ \\text{Minimizar} \\qquad  z = \\Delta t \\sum_{k=0}^{N-1} \\theta_k  \\qquad \\text{s.a.}\\\\\n",
    "\\qquad 1 = \\Delta t ^2 \\cdot \\sum_{i=0}^{N-2}(N-1-i)\\cdot a_{i} \\\\\n",
    "\\qquad 0 = \\Delta t \\cdot \\sum_{i=0}^{N-1}a_i \\\\\n",
    "\\qquad a_k - \\theta_k \\leq = 0 \\qquad k \\in \\{0,1,...,(N-1) \\}\\\\\n",
    "\\qquad -a_k - \\theta_k \\leq = 0 \\qquad k \\in \\{0,1,...,(N-1) \\}\n",
    "$$"
   ]
  },
  {
   "cell_type": "code",
   "execution_count": 13,
   "metadata": {},
   "outputs": [],
   "source": [
    "def inequalities(N, T, theta_k=1, a_k=1):\n",
    "    matrix_A = []\n",
    "    \n",
    "    for i in range(0,N):\n",
    "        rest_1 = [-theta_k if x == i else 0 for x in range(0,N)] + [ a_k if x == i else 0 for x in range(0, N)]\n",
    "        rest_2 = [-theta_k if x == i else 0 for x in range(0,N)] + [-a_k if x == i else 0 for x in range(0, N)]\n",
    "        \n",
    "        matrix_A.append(rest_1)\n",
    "        matrix_A.append(rest_2)\n",
    "        \n",
    "    return matrix_A\n",
    "\n",
    "def cost(N, T, theta_k=1):\n",
    "    dt = T/N\n",
    "    return [dt*theta_k for i in range(0,N)] + [0 for i in range(0,N)]\n",
    "\n",
    "def position_restriction(N,T, a_k=1):\n",
    "    dt = T/N\n",
    "    return [0 for i in range (0, N)] + [dt**2 *(N-1-i)*a_k for i in range(0,N-1)] + [0]\n",
    "\n",
    "def velocity_restriction(N,T, a_k=1):\n",
    "    dt = T/N\n",
    "    return [0 for i in range(0,N)] + [dt*a_k for i in range(0, N)]\n",
    "\n",
    "def basic(N,T):\n",
    "    b = [0 for i in range(0,2*(N+1)+1)]\n",
    "    b[-1] = 1\n",
    "    return b\n",
    "\n",
    "def add_artificial(N,T):\n",
    "    rest_0 = [0 for i in range(0, 2*(N+1))]\n",
    "    restriction_list = [rest_0]\n",
    "    \n",
    "    for i in range(0,2*(N+1)):\n",
    "        rest = [1 if i == x else 0 for x in range(0,2*(N+1))]\n",
    "        restriction_list.append(rest)\n",
    "    return restriction_list\n",
    "\n",
    "def create_lpp(N, T, theta_k=1, a_k=1):\n",
    "    # Lembrar de tirar o rounding depois\n",
    "    tableau = np.round([cost(N,T,theta_k)] + inequalities(N,T, theta_k, a_k) + [velocity_restriction(N,T, a_k)] + [position_restriction(N,T, a_k)], 1)\n",
    "    df = pd.DataFrame(tableau, \n",
    "                      columns=['theta_{}'.format(x) if x < N else 'a_{}'.format(x-N) for x in range(0,2*N)])\n",
    "    \n",
    "    df = pd.concat([pd.DataFrame(basic(N,T), columns=['b']), df], axis=1)\n",
    "    df = pd.concat([df, pd.DataFrame(add_artificial(N,T), columns=['c_{}'.format(i) for i in range(0,2*(N+1))])], axis=1)\n",
    "    df = df.rename(index={0:'Custos'})\n",
    "    return df"
   ]
  },
  {
   "cell_type": "code",
   "execution_count": 20,
   "metadata": {},
   "outputs": [
    {
     "data": {
      "text/html": [
       "<div>\n",
       "<table border=\"1\" class=\"dataframe\">\n",
       "  <thead>\n",
       "    <tr style=\"text-align: right;\">\n",
       "      <th></th>\n",
       "      <th>b</th>\n",
       "      <th>theta_0</th>\n",
       "      <th>theta_1</th>\n",
       "      <th>theta_2</th>\n",
       "      <th>theta_3</th>\n",
       "      <th>a_0</th>\n",
       "      <th>a_1</th>\n",
       "      <th>a_2</th>\n",
       "      <th>a_3</th>\n",
       "      <th>c_0</th>\n",
       "      <th>c_1</th>\n",
       "      <th>c_2</th>\n",
       "      <th>c_3</th>\n",
       "      <th>c_4</th>\n",
       "      <th>c_5</th>\n",
       "      <th>c_6</th>\n",
       "      <th>c_7</th>\n",
       "      <th>c_8</th>\n",
       "      <th>c_9</th>\n",
       "    </tr>\n",
       "  </thead>\n",
       "  <tbody>\n",
       "    <tr>\n",
       "      <th>Custos</th>\n",
       "      <td>0</td>\n",
       "      <td>2.5</td>\n",
       "      <td>2.5</td>\n",
       "      <td>2.5</td>\n",
       "      <td>2.5</td>\n",
       "      <td>0.0</td>\n",
       "      <td>0.0</td>\n",
       "      <td>0.0</td>\n",
       "      <td>0.0</td>\n",
       "      <td>0</td>\n",
       "      <td>0</td>\n",
       "      <td>0</td>\n",
       "      <td>0</td>\n",
       "      <td>0</td>\n",
       "      <td>0</td>\n",
       "      <td>0</td>\n",
       "      <td>0</td>\n",
       "      <td>0</td>\n",
       "      <td>0</td>\n",
       "    </tr>\n",
       "    <tr>\n",
       "      <th>1</th>\n",
       "      <td>0</td>\n",
       "      <td>-1.0</td>\n",
       "      <td>0.0</td>\n",
       "      <td>0.0</td>\n",
       "      <td>0.0</td>\n",
       "      <td>1.0</td>\n",
       "      <td>0.0</td>\n",
       "      <td>0.0</td>\n",
       "      <td>0.0</td>\n",
       "      <td>1</td>\n",
       "      <td>0</td>\n",
       "      <td>0</td>\n",
       "      <td>0</td>\n",
       "      <td>0</td>\n",
       "      <td>0</td>\n",
       "      <td>0</td>\n",
       "      <td>0</td>\n",
       "      <td>0</td>\n",
       "      <td>0</td>\n",
       "    </tr>\n",
       "    <tr>\n",
       "      <th>2</th>\n",
       "      <td>0</td>\n",
       "      <td>-1.0</td>\n",
       "      <td>0.0</td>\n",
       "      <td>0.0</td>\n",
       "      <td>0.0</td>\n",
       "      <td>-1.0</td>\n",
       "      <td>0.0</td>\n",
       "      <td>0.0</td>\n",
       "      <td>0.0</td>\n",
       "      <td>0</td>\n",
       "      <td>1</td>\n",
       "      <td>0</td>\n",
       "      <td>0</td>\n",
       "      <td>0</td>\n",
       "      <td>0</td>\n",
       "      <td>0</td>\n",
       "      <td>0</td>\n",
       "      <td>0</td>\n",
       "      <td>0</td>\n",
       "    </tr>\n",
       "    <tr>\n",
       "      <th>3</th>\n",
       "      <td>0</td>\n",
       "      <td>0.0</td>\n",
       "      <td>-1.0</td>\n",
       "      <td>0.0</td>\n",
       "      <td>0.0</td>\n",
       "      <td>0.0</td>\n",
       "      <td>1.0</td>\n",
       "      <td>0.0</td>\n",
       "      <td>0.0</td>\n",
       "      <td>0</td>\n",
       "      <td>0</td>\n",
       "      <td>1</td>\n",
       "      <td>0</td>\n",
       "      <td>0</td>\n",
       "      <td>0</td>\n",
       "      <td>0</td>\n",
       "      <td>0</td>\n",
       "      <td>0</td>\n",
       "      <td>0</td>\n",
       "    </tr>\n",
       "    <tr>\n",
       "      <th>4</th>\n",
       "      <td>0</td>\n",
       "      <td>0.0</td>\n",
       "      <td>-1.0</td>\n",
       "      <td>0.0</td>\n",
       "      <td>0.0</td>\n",
       "      <td>0.0</td>\n",
       "      <td>-1.0</td>\n",
       "      <td>0.0</td>\n",
       "      <td>0.0</td>\n",
       "      <td>0</td>\n",
       "      <td>0</td>\n",
       "      <td>0</td>\n",
       "      <td>1</td>\n",
       "      <td>0</td>\n",
       "      <td>0</td>\n",
       "      <td>0</td>\n",
       "      <td>0</td>\n",
       "      <td>0</td>\n",
       "      <td>0</td>\n",
       "    </tr>\n",
       "    <tr>\n",
       "      <th>5</th>\n",
       "      <td>0</td>\n",
       "      <td>0.0</td>\n",
       "      <td>0.0</td>\n",
       "      <td>-1.0</td>\n",
       "      <td>0.0</td>\n",
       "      <td>0.0</td>\n",
       "      <td>0.0</td>\n",
       "      <td>1.0</td>\n",
       "      <td>0.0</td>\n",
       "      <td>0</td>\n",
       "      <td>0</td>\n",
       "      <td>0</td>\n",
       "      <td>0</td>\n",
       "      <td>1</td>\n",
       "      <td>0</td>\n",
       "      <td>0</td>\n",
       "      <td>0</td>\n",
       "      <td>0</td>\n",
       "      <td>0</td>\n",
       "    </tr>\n",
       "    <tr>\n",
       "      <th>6</th>\n",
       "      <td>0</td>\n",
       "      <td>0.0</td>\n",
       "      <td>0.0</td>\n",
       "      <td>-1.0</td>\n",
       "      <td>0.0</td>\n",
       "      <td>0.0</td>\n",
       "      <td>0.0</td>\n",
       "      <td>-1.0</td>\n",
       "      <td>0.0</td>\n",
       "      <td>0</td>\n",
       "      <td>0</td>\n",
       "      <td>0</td>\n",
       "      <td>0</td>\n",
       "      <td>0</td>\n",
       "      <td>1</td>\n",
       "      <td>0</td>\n",
       "      <td>0</td>\n",
       "      <td>0</td>\n",
       "      <td>0</td>\n",
       "    </tr>\n",
       "    <tr>\n",
       "      <th>7</th>\n",
       "      <td>0</td>\n",
       "      <td>0.0</td>\n",
       "      <td>0.0</td>\n",
       "      <td>0.0</td>\n",
       "      <td>-1.0</td>\n",
       "      <td>0.0</td>\n",
       "      <td>0.0</td>\n",
       "      <td>0.0</td>\n",
       "      <td>1.0</td>\n",
       "      <td>0</td>\n",
       "      <td>0</td>\n",
       "      <td>0</td>\n",
       "      <td>0</td>\n",
       "      <td>0</td>\n",
       "      <td>0</td>\n",
       "      <td>1</td>\n",
       "      <td>0</td>\n",
       "      <td>0</td>\n",
       "      <td>0</td>\n",
       "    </tr>\n",
       "    <tr>\n",
       "      <th>8</th>\n",
       "      <td>0</td>\n",
       "      <td>0.0</td>\n",
       "      <td>0.0</td>\n",
       "      <td>0.0</td>\n",
       "      <td>-1.0</td>\n",
       "      <td>0.0</td>\n",
       "      <td>0.0</td>\n",
       "      <td>0.0</td>\n",
       "      <td>-1.0</td>\n",
       "      <td>0</td>\n",
       "      <td>0</td>\n",
       "      <td>0</td>\n",
       "      <td>0</td>\n",
       "      <td>0</td>\n",
       "      <td>0</td>\n",
       "      <td>0</td>\n",
       "      <td>1</td>\n",
       "      <td>0</td>\n",
       "      <td>0</td>\n",
       "    </tr>\n",
       "    <tr>\n",
       "      <th>9</th>\n",
       "      <td>0</td>\n",
       "      <td>0.0</td>\n",
       "      <td>0.0</td>\n",
       "      <td>0.0</td>\n",
       "      <td>0.0</td>\n",
       "      <td>2.5</td>\n",
       "      <td>2.5</td>\n",
       "      <td>2.5</td>\n",
       "      <td>2.5</td>\n",
       "      <td>0</td>\n",
       "      <td>0</td>\n",
       "      <td>0</td>\n",
       "      <td>0</td>\n",
       "      <td>0</td>\n",
       "      <td>0</td>\n",
       "      <td>0</td>\n",
       "      <td>0</td>\n",
       "      <td>1</td>\n",
       "      <td>0</td>\n",
       "    </tr>\n",
       "    <tr>\n",
       "      <th>10</th>\n",
       "      <td>1</td>\n",
       "      <td>0.0</td>\n",
       "      <td>0.0</td>\n",
       "      <td>0.0</td>\n",
       "      <td>0.0</td>\n",
       "      <td>18.8</td>\n",
       "      <td>12.5</td>\n",
       "      <td>6.2</td>\n",
       "      <td>0.0</td>\n",
       "      <td>0</td>\n",
       "      <td>0</td>\n",
       "      <td>0</td>\n",
       "      <td>0</td>\n",
       "      <td>0</td>\n",
       "      <td>0</td>\n",
       "      <td>0</td>\n",
       "      <td>0</td>\n",
       "      <td>0</td>\n",
       "      <td>1</td>\n",
       "    </tr>\n",
       "  </tbody>\n",
       "</table>\n",
       "</div>"
      ],
      "text/plain": [
       "        b  theta_0  theta_1  theta_2  theta_3   a_0   a_1  a_2  a_3  c_0  c_1  \\\n",
       "Custos  0      2.5      2.5      2.5      2.5   0.0   0.0  0.0  0.0    0    0   \n",
       "1       0     -1.0      0.0      0.0      0.0   1.0   0.0  0.0  0.0    1    0   \n",
       "2       0     -1.0      0.0      0.0      0.0  -1.0   0.0  0.0  0.0    0    1   \n",
       "3       0      0.0     -1.0      0.0      0.0   0.0   1.0  0.0  0.0    0    0   \n",
       "4       0      0.0     -1.0      0.0      0.0   0.0  -1.0  0.0  0.0    0    0   \n",
       "5       0      0.0      0.0     -1.0      0.0   0.0   0.0  1.0  0.0    0    0   \n",
       "6       0      0.0      0.0     -1.0      0.0   0.0   0.0 -1.0  0.0    0    0   \n",
       "7       0      0.0      0.0      0.0     -1.0   0.0   0.0  0.0  1.0    0    0   \n",
       "8       0      0.0      0.0      0.0     -1.0   0.0   0.0  0.0 -1.0    0    0   \n",
       "9       0      0.0      0.0      0.0      0.0   2.5   2.5  2.5  2.5    0    0   \n",
       "10      1      0.0      0.0      0.0      0.0  18.8  12.5  6.2  0.0    0    0   \n",
       "\n",
       "        c_2  c_3  c_4  c_5  c_6  c_7  c_8  c_9  \n",
       "Custos    0    0    0    0    0    0    0    0  \n",
       "1         0    0    0    0    0    0    0    0  \n",
       "2         0    0    0    0    0    0    0    0  \n",
       "3         1    0    0    0    0    0    0    0  \n",
       "4         0    1    0    0    0    0    0    0  \n",
       "5         0    0    1    0    0    0    0    0  \n",
       "6         0    0    0    1    0    0    0    0  \n",
       "7         0    0    0    0    1    0    0    0  \n",
       "8         0    0    0    0    0    1    0    0  \n",
       "9         0    0    0    0    0    0    1    0  \n",
       "10        0    0    0    0    0    0    0    1  "
      ]
     },
     "execution_count": 20,
     "metadata": {},
     "output_type": "execute_result"
    }
   ],
   "source": [
    "N = 4  # <- Número de discretizações\n",
    "T = 10 # <- Tamanho total do intervalo\n",
    "\n",
    "df = create_lpp(N,T) # <- Função que cria o tableau em formato de DataFrame\n",
    "df"
   ]
  },
  {
   "cell_type": "code",
   "execution_count": 21,
   "metadata": {},
   "outputs": [],
   "source": [
    "# - Transformando de dataframe para lista para poder rodar o meu Simplex implementado no Simplex.py\n",
    "\n",
    "c = df.drop(['b'], axis=1).iloc[0].as_matrix().tolist()\n",
    "b = df['b'][1:].as_matrix().tolist()\n",
    "A = df.drop(['b'], axis=1)[1:].as_matrix().tolist()"
   ]
  },
  {
   "cell_type": "code",
   "execution_count": 73,
   "metadata": {},
   "outputs": [
    {
     "name": "stdout",
     "output_type": "stream",
     "text": [
      "Iteração 1:\n",
      "[[  0.           1.42857143   1.42857143   1.42857143   1.42857143\n",
      "    1.42857143   1.42857143   1.42857143  -1.42857143  -1.42857143\n",
      "   -1.42857143  -1.42857143  -1.42857143  -1.42857143  -1.42857143   0.\n",
      "    0.        ]\n",
      " [  0.          -1.42857143  -1.42857143  -1.42857143  -1.42857143\n",
      "   -1.42857143  -1.42857143  -1.42857143   1.42857143   1.42857143\n",
      "    1.42857143   1.42857143   1.42857143   1.42857143   1.42857143  -1.\n",
      "    0.        ]\n",
      " [ -1.         -12.24489796 -10.20408163  -8.16326531  -6.12244898\n",
      "   -4.08163265  -2.04081633  -0.          12.24489796  10.20408163\n",
      "    8.16326531   6.12244898   4.08163265   2.04081633  -0.           0.\n",
      "   -1.        ]]\n",
      "O pivô está na linha 1 e coluna 8 \n",
      "\n",
      "Iteração 2:\n",
      "[[  0.           0.           0.           0.           0.           0.\n",
      "    0.           0.           0.           0.           0.           0.\n",
      "    0.           0.           0.          -1.           0.        ]\n",
      " [  0.          -1.          -1.          -1.          -1.          -1.\n",
      "   -1.          -1.           1.           1.           1.           1.\n",
      "    1.           1.           1.          -0.7          0.        ]\n",
      " [ -1.           0.           2.04081633   4.08163265   6.12244898\n",
      "    8.16326531  10.20408163  12.24489796   0.          -2.04081633\n",
      "   -4.08163265  -6.12244898  -8.16326531 -10.20408163 -12.24489796\n",
      "    8.57142857  -1.        ]]\n",
      "O pivô está na linha 2 e coluna 15 \n",
      "\n",
      "Iteração 3:\n",
      "[[ -1.16666667e-01   0.00000000e+00   2.38095238e-01   4.76190476e-01\n",
      "    7.14285714e-01   9.52380952e-01   1.19047619e+00   1.42857143e+00\n",
      "    0.00000000e+00  -2.38095238e-01  -4.76190476e-01  -7.14285714e-01\n",
      "   -9.52380952e-01  -1.19047619e+00  -1.42857143e+00   0.00000000e+00\n",
      "   -1.16666667e-01]\n",
      " [ -8.16666667e-02  -1.00000000e+00  -8.33333333e-01  -6.66666667e-01\n",
      "   -5.00000000e-01  -3.33333333e-01  -1.66666667e-01   2.22044605e-16\n",
      "    1.00000000e+00   8.33333333e-01   6.66666667e-01   5.00000000e-01\n",
      "    3.33333333e-01   1.66666667e-01  -2.22044605e-16   0.00000000e+00\n",
      "   -8.16666667e-02]\n",
      " [ -1.16666667e-01   0.00000000e+00   2.38095238e-01   4.76190476e-01\n",
      "    7.14285714e-01   9.52380952e-01   1.19047619e+00   1.42857143e+00\n",
      "    0.00000000e+00  -2.38095238e-01  -4.76190476e-01  -7.14285714e-01\n",
      "   -9.52380952e-01  -1.19047619e+00  -1.42857143e+00   1.00000000e+00\n",
      "   -1.16666667e-01]]\n",
      "O pivô está na linha 1 e coluna 9 \n",
      "\n"
     ]
    },
    {
     "data": {
      "text/plain": [
       "'Problema ilimitado'"
      ]
     },
     "execution_count": 73,
     "metadata": {},
     "output_type": "execute_result"
    }
   ],
   "source": [
    "from Simplex import simplex\n",
    "\n",
    "simplex(c,A,b, verbose=True)[1:]"
   ]
  },
  {
   "cell_type": "markdown",
   "metadata": {},
   "source": [
    "Portanto, a modelagem acima não funciona, e pode-se ver que isso se dá pois não existirão acelerações negativas devido às restrições de $\\theta_k \\geq$ 0 $\\forall$ k."
   ]
  },
  {
   "cell_type": "markdown",
   "metadata": {},
   "source": [
    "### Remodelando o problema de outra forma"
   ]
  },
  {
   "cell_type": "markdown",
   "metadata": {},
   "source": [
    "Podemos tomar o modelo,\n",
    "\n",
    "$$ \\text{Minimizar} \\qquad  z = \\Delta t \\sum_{k=0}^{N-1} |a_k|  \\qquad \\text{s.a.}\\\\\n",
    "\\qquad 1 = \\Delta t ^2 \\cdot \\sum_{i=0}^{N-2}(N-1-i)\\cdot a_{i} \\\\\n",
    "\\qquad 0 = \\Delta t \\cdot \\sum_{i=0}^{N-1}a_i \\\\\n",
    "$$"
   ]
  },
  {
   "cell_type": "markdown",
   "metadata": {},
   "source": [
    "Podemos somar e subtrair as variáveis $a_k^+$ e $a_k^-$ e o problema poderá ser escrito como,"
   ]
  },
  {
   "cell_type": "markdown",
   "metadata": {},
   "source": [
    "$$ \\text{Minimizar} \\qquad  z = \\Delta t \\sum_{k=0}^{N-1} (a_k^+ - a_k^-)  \\qquad \\text{s.a.}\\\\\n",
    "\\qquad \\Delta t ^2 \\cdot \\sum_{i=0}^{N-2}(N-1-i)\\cdot a_{i}^+ - \\Delta t ^2 \\cdot \\sum_{i=0}^{N-2}(N-1-i)\\cdot a_{i}^- = 1\\\\\n",
    "\\qquad \\Delta t \\cdot \\sum_{i=0}^{N-1}a_i^+ - \\Delta t \\cdot \\sum_{i=0}^{N-1}a_i^- = 0\\\\\n",
    "\\qquad a_i^+, a_i^- \\geq 0 \\ \\forall i \\in \\{0,...,N-1\\}\n",
    "$$"
   ]
  },
  {
   "cell_type": "code",
   "execution_count": 88,
   "metadata": {},
   "outputs": [],
   "source": [
    "def lpp_problem(T, N):\n",
    "    a_1u = a_1b = 1 # <- aqui eu denomino a_i^+ e a_i^- por a_iu e a_ib, respectivamente, para ficar mais fácil para escrever no código\n",
    "    dt = T/N\n",
    "\n",
    "    custo = [a_1u*dt for i in range(0,N)] + [(-1)*a_1b*dt for i in range(0,N)]\n",
    "    rest_1 = [a_1u*dt for i in range(0, N)] + [(-1)*a_1b*dt for x in range(0,N)]\n",
    "    rest_2 = [(N-1-i)*a_1u*dt**2 if i < N else 0 for i in range(0,N)] + [-1*(N-1-i)*a_1b*dt**2 if i < N else 0 for i in range(0,N)]\n",
    "\n",
    "    slack_list = [[0 for i in range(0,2)]]\n",
    "    for i in range(2):\n",
    "        slack = [1 if i == x else 0 for x in range(0,2)]\n",
    "        slack_list.append(slack)\n",
    "\n",
    "    df = pd.DataFrame([custo] + [rest_1] + [rest_2], columns=['a_{}u'.format(i) if i < N else 'a_{}b'.format(i-N) for i in range(0,2*N)])\n",
    "    df = pd.concat([df, pd.DataFrame(slack_list, columns=['c{}'.format(i) for i in range (0, 2)])], axis=1)\n",
    "    df = pd.concat([pd.DataFrame([0,0,1], columns=['b']), df], axis=1)\n",
    "    return df\n",
    "\n",
    "def montar_tableau(df):\n",
    "    df[['c0', 'c1']] = (-1)*df[['c0', 'c1']]\n",
    "\n",
    "    c = df.iloc[0][1:]\n",
    "    b = df[[0,]][1:].T\n",
    "    A = df.drop(['b'],axis=1)[1:]\n",
    "\n",
    "    A = A*(-1)\n",
    "    b = b*(-1)\n",
    "\n",
    "    c = c.as_matrix().tolist()\n",
    "    b = b.as_matrix()[0].tolist()\n",
    "    A = A.as_matrix().tolist()\n",
    "    \n",
    "    return c, A, b"
   ]
  },
  {
   "cell_type": "code",
   "execution_count": 89,
   "metadata": {},
   "outputs": [
    {
     "data": {
      "text/html": [
       "<div>\n",
       "<table border=\"1\" class=\"dataframe\">\n",
       "  <thead>\n",
       "    <tr style=\"text-align: right;\">\n",
       "      <th></th>\n",
       "      <th>b</th>\n",
       "      <th>a_0u</th>\n",
       "      <th>a_1u</th>\n",
       "      <th>a_2u</th>\n",
       "      <th>a_3u</th>\n",
       "      <th>a_0b</th>\n",
       "      <th>a_1b</th>\n",
       "      <th>a_2b</th>\n",
       "      <th>a_3b</th>\n",
       "      <th>c0</th>\n",
       "      <th>c1</th>\n",
       "    </tr>\n",
       "  </thead>\n",
       "  <tbody>\n",
       "    <tr>\n",
       "      <th>0</th>\n",
       "      <td>0</td>\n",
       "      <td>2.50</td>\n",
       "      <td>2.5</td>\n",
       "      <td>2.50</td>\n",
       "      <td>2.5</td>\n",
       "      <td>-2.50</td>\n",
       "      <td>-2.5</td>\n",
       "      <td>-2.50</td>\n",
       "      <td>-2.5</td>\n",
       "      <td>0</td>\n",
       "      <td>0</td>\n",
       "    </tr>\n",
       "    <tr>\n",
       "      <th>1</th>\n",
       "      <td>0</td>\n",
       "      <td>2.50</td>\n",
       "      <td>2.5</td>\n",
       "      <td>2.50</td>\n",
       "      <td>2.5</td>\n",
       "      <td>-2.50</td>\n",
       "      <td>-2.5</td>\n",
       "      <td>-2.50</td>\n",
       "      <td>-2.5</td>\n",
       "      <td>1</td>\n",
       "      <td>0</td>\n",
       "    </tr>\n",
       "    <tr>\n",
       "      <th>2</th>\n",
       "      <td>1</td>\n",
       "      <td>18.75</td>\n",
       "      <td>12.5</td>\n",
       "      <td>6.25</td>\n",
       "      <td>0.0</td>\n",
       "      <td>-18.75</td>\n",
       "      <td>-12.5</td>\n",
       "      <td>-6.25</td>\n",
       "      <td>0.0</td>\n",
       "      <td>0</td>\n",
       "      <td>1</td>\n",
       "    </tr>\n",
       "  </tbody>\n",
       "</table>\n",
       "</div>"
      ],
      "text/plain": [
       "   b   a_0u  a_1u  a_2u  a_3u   a_0b  a_1b  a_2b  a_3b  c0  c1\n",
       "0  0   2.50   2.5  2.50   2.5  -2.50  -2.5 -2.50  -2.5   0   0\n",
       "1  0   2.50   2.5  2.50   2.5  -2.50  -2.5 -2.50  -2.5   1   0\n",
       "2  1  18.75  12.5  6.25   0.0 -18.75 -12.5 -6.25   0.0   0   1"
      ]
     },
     "execution_count": 89,
     "metadata": {},
     "output_type": "execute_result"
    }
   ],
   "source": [
    "T = 10\n",
    "N = 4\n",
    "\n",
    "df = lpp_problem(T, N)\n",
    "df"
   ]
  },
  {
   "cell_type": "code",
   "execution_count": 90,
   "metadata": {},
   "outputs": [],
   "source": [
    "# df[['c0', 'c1']] = (-1)*df[['c0', 'c1']]\n",
    "\n",
    "# c = df.iloc[0][1:]\n",
    "# b = df[[0,]][1:].T\n",
    "# A = df.drop(['b'],axis=1)[1:]\n",
    "\n",
    "# A = A*(-1)\n",
    "# b = b*(-1)\n",
    "\n",
    "# c = c.as_matrix().tolist()\n",
    "# b = b.as_matrix()[0].tolist()\n",
    "# A = A.as_matrix().tolist()\n",
    "c, A, b = montar_tableau(df)"
   ]
  },
  {
   "cell_type": "markdown",
   "metadata": {},
   "source": [
    "Na linha abaixo, eu rodo o meu código, mas aparentemente ele não consegue resolver o exercício, isso se dá pelo fato de que necessariamente após a primeira iteração os custos já estão todos positivos."
   ]
  },
  {
   "cell_type": "code",
   "execution_count": 91,
   "metadata": {},
   "outputs": [
    {
     "name": "stdout",
     "output_type": "stream",
     "text": [
      "Iteração 1:\n",
      "[[  0.     2.5    2.5    2.5    2.5   -2.5   -2.5   -2.5   -2.5    0.     0.  ]\n",
      " [  0.    -2.5   -2.5   -2.5   -2.5    2.5    2.5    2.5    2.5    1.     0.  ]\n",
      " [ -1.   -18.75 -12.5   -6.25  -0.    18.75  12.5    6.25  -0.     0.     1.  ]]\n",
      "O pivô está na linha 1 e coluna 5 \n",
      "\n"
     ]
    },
    {
     "data": {
      "text/plain": [
       "({'x10': -1.0, 'x5': 0.0}, -0.0)"
      ]
     },
     "execution_count": 91,
     "metadata": {},
     "output_type": "execute_result"
    }
   ],
   "source": [
    "simplex(c, A, b, verbose=True)[1:]"
   ]
  },
  {
   "cell_type": "markdown",
   "metadata": {},
   "source": [
    "___"
   ]
  },
  {
   "cell_type": "markdown",
   "metadata": {},
   "source": [
    "Sendo assim, na linha abaixo vou usar o código já implementado pelo próprio Scipy (biblioteca já existente) para ver se pelo menos é possível obter solução à nova construção do problema"
   ]
  },
  {
   "cell_type": "code",
   "execution_count": 92,
   "metadata": {},
   "outputs": [
    {
     "data": {
      "text/plain": [
       "     fun: -0.0\n",
       " message: 'Optimization terminated successfully.'\n",
       "     nit: 2\n",
       "   slack: array([ 0.,  0.])\n",
       "  status: 0\n",
       " success: True\n",
       "       x: array([ 0.05333333,  0.        ,  0.        ,  0.        ,  0.        ,\n",
       "        0.        ,  0.        ,  0.05333333,  0.        ,  0.        ])"
      ]
     },
     "execution_count": 92,
     "metadata": {},
     "output_type": "execute_result"
    }
   ],
   "source": [
    "from scipy.optimize import linprog\n",
    "\n",
    "linprog(c.copy(),A.copy(),b.copy())"
   ]
  },
  {
   "cell_type": "markdown",
   "metadata": {},
   "source": [
    "E é possível encontrar solução ao problema."
   ]
  },
  {
   "cell_type": "markdown",
   "metadata": {},
   "source": [
    "Logo, usando o código da BIBLIOTECA, podemos plotar o valor do custo pelo número de iterações. \n",
    "\n",
    "Pegando o vetor ótimo, temos que $a_i = a_i^+ - a_i^-$, então, como apenas $a_0^+$ e $a_{N-1}^-$ estão nos dando o valor final, o custo será o módulo de $a_i$, que será portanto,\n",
    "\n",
    "$$\\Delta t \\cdot \\sum_{i=0}^{N-1}|a_k| = \\Delta t \\cdot (a_0^+ + a_{N-1}^-)$$"
   ]
  },
  {
   "cell_type": "code",
   "execution_count": 117,
   "metadata": {},
   "outputs": [],
   "source": [
    "N = [x for x in range (2,30)] # -> de 2 discretizações até 30\n",
    "custos = []\n",
    "for discretizations in N:\n",
    "    df = lpp_problem(discretizations, 10)\n",
    "    c, A, b = montar_tableau(df)\n",
    "    custos.append(np.sum(linprog(c,A,b)['x']))"
   ]
  },
  {
   "cell_type": "code",
   "execution_count": 122,
   "metadata": {},
   "outputs": [
    {
     "data": {
      "image/png": "[encoded data removed]",
      "text/plain": [
       "<matplotlib.figure.Figure at 0x7f3c9a136ac8>"
      ]
     },
     "metadata": {
      "needs_background": "light"
     },
     "output_type": "display_data"
    }
   ],
   "source": [
    "import matplotlib.pyplot as plt \n",
    "%matplotlib inline\n",
    "\n",
    "plt.figure(figsize=(20,5))\n",
    "plt.grid()\n",
    "plt.plot(N, custos, 'bo-', markersize=2.5)\n",
    "plt.title('Gráfico da função custo $\\\\times$ Número de discretizações feitas')\n",
    "plt.ylabel('Custo')\n",
    "plt.xlabel('Número de discretizações')\n",
    "plt.show()"
   ]
  }
 ],
 "metadata": {
  "kernelspec": {
   "display_name": "Python [default]",
   "language": "python",
   "name": "python3"
  },
  "language_info": {
   "codemirror_mode": {
    "name": "ipython",
    "version": 3
   },
   "file_extension": ".py",
   "mimetype": "text/x-python",
   "name": "python",
   "nbconvert_exporter": "python",
   "pygments_lexer": "ipython3",
   "version": "3.5.2"
  }
 },
 "nbformat": 4,
 "nbformat_minor": 2
}
